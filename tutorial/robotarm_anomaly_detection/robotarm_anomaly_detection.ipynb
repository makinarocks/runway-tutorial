{
 "cells": [
  {
   "cell_type": "code",
   "execution_count": null,
   "id": "1e7559cc-50d2-4d3f-89eb-3be460bb0e81",
   "metadata": {
    "canvas": {
     "comments": [],
     "componentType": "CodeCell",
     "copiedOriginId": "d449894a-be84-48f3-928c-bc53fc431083",
     "diskcache": false,
     "headerColor": "transparent",
     "id": "8e39fdc3-9c25-478a-8ff1-b31e0e148739",
     "isComponent": false,
     "name": "",
     "parents": []
    },
    "tags": []
   },
   "outputs": [],
   "source": [
    "# !pip install pandas scikit-learn"
   ]
  },
  {
   "cell_type": "code",
   "execution_count": null,
   "id": "4109eb30-e731-4361-b808-aae89161ff01",
   "metadata": {
    "canvas": {
     "comments": [],
     "componentType": "CodeCell",
     "copiedOriginId": null,
     "diskcache": true,
     "headerColor": "transparent",
     "id": "55c10414-a2a4-41ae-9c7f-2d20063e9618",
     "isComponent": true,
     "name": "RUNWAY_DATA_PATH",
     "parents": []
    },
    "tags": []
   },
   "outputs": [],
   "source": [
    "import os\n",
    "import pandas as pd\n",
    "\n",
    "dfs = []\n",
    "for dirname, _, filenames in os.walk(TRAIN_DATA):\n",
    "    for filename in filenames:\n",
    "        if filename.endswith(\".csv\"):\n",
    "            d = pd.read_csv(os.path.join(dirname, filename))\n",
    "        elif filename.endswith(\".parquet\"):\n",
    "            d = pd.read_parquet(os.path.join(dirname, filename))\n",
    "        else:\n",
    "            raise ValueError(\"Not valid file type\")\n",
    "        dfs += [d]\n",
    "df = pd.concat(dfs)"
   ]
  },
  {
   "cell_type": "code",
   "execution_count": null,
   "id": "a634d8e3-9395-4d01-ba29-68f0d7d563d4",
   "metadata": {
    "canvas": {
     "comments": [],
     "componentType": "CodeCell",
     "copiedOriginId": null,
     "diskcache": true,
     "headerColor": "transparent",
     "id": "92632143-efe6-46e6-a353-1c0342f03abf",
     "isComponent": true,
     "name": "set data",
     "parents": [
      {
       "id": "55c10414-a2a4-41ae-9c7f-2d20063e9618",
       "name": "RUNWAY_DATA_PATH"
      }
     ]
    },
    "tags": []
   },
   "outputs": [],
   "source": [
    "proc_df = df.set_index(\"datetime\").drop(columns=[\"id\"]).tail(1000)"
   ]
  },
  {
   "cell_type": "code",
   "execution_count": null,
   "id": "e73ba258-e7f6-46bf-b815-afa9a45808b0",
   "metadata": {
    "canvas": {
     "comments": [],
     "componentType": "CodeCell",
     "copiedOriginId": null,
     "diskcache": true,
     "headerColor": "transparent",
     "id": "49f68d1e-76ae-4fa3-b908-e3ddc01e351e",
     "isComponent": true,
     "name": "split data",
     "parents": [
      {
       "id": "92632143-efe6-46e6-a353-1c0342f03abf",
       "name": "set data"
      }
     ]
    },
    "tags": []
   },
   "outputs": [],
   "source": [
    "from sklearn.model_selection import train_test_split\n",
    "\n",
    "train, valid = train_test_split(proc_df, test_size=0.2)"
   ]
  },
  {
   "cell_type": "code",
   "execution_count": null,
   "id": "1b61fe02-bb3c-4b0c-839e-9e3e666468bd",
   "metadata": {
    "canvas": {
     "comments": [],
     "componentType": "CodeCell",
     "copiedOriginId": null,
     "diskcache": true,
     "headerColor": "transparent",
     "id": "61136854-4c61-4355-97c1-1d55a37e53f1",
     "isComponent": true,
     "name": "pca class",
     "parents": []
    },
    "tags": []
   },
   "outputs": [],
   "source": [
    "import pandas as pd\n",
    "from sklearn.decomposition import PCA\n",
    "from sklearn.preprocessing import StandardScaler\n",
    "\n",
    "\n",
    "class PCADetector:\n",
    "    def __init__(self, n_components):\n",
    "        self._use_columns = ...\n",
    "        self._scaler = StandardScaler()\n",
    "        self._pca = PCA(n_components=n_components)\n",
    "    \n",
    "    def fit(self, X):\n",
    "        self._use_columns = X.columns\n",
    "        X_scaled = self._scaler.fit_transform(X)\n",
    "        self._pca.fit(X_scaled)\n",
    "    \n",
    "    def predict(self, X):\n",
    "        X = X[self._use_columns]\n",
    "        X_scaled = self._scaler.transform(X)\n",
    "        recon = self._recon(X_scaled)\n",
    "        recon_err = ((X_scaled - recon) ** 2).mean(1)\n",
    "        recon_err_df = pd.DataFrame(recon_err, columns=[\"anomaly_score\"], index=X.index)\n",
    "        return recon_err_df\n",
    "    \n",
    "    def _recon(self, X):\n",
    "        z = self._pca.transform(X)\n",
    "        recon = self._pca.inverse_transform(z)\n",
    "        return recon\n",
    "\n",
    "    def reconstruct(self, X):\n",
    "        X_scaled = self._scaler.transform(X)\n",
    "        recon_scaled = self._recon(X_scaled)\n",
    "        recon = self._scaler.inverse_transform(recon_scaled)\n",
    "        recon_df = pd.DataFrame(recon, index=X.index, columns=X.columns)\n",
    "        return recon_df"
   ]
  },
  {
   "cell_type": "code",
   "execution_count": null,
   "id": "d7468de9-8268-442c-9719-bf7985dbe623",
   "metadata": {
    "canvas": {
     "comments": [],
     "componentType": "CodeCell",
     "copiedOriginId": null,
     "diskcache": true,
     "headerColor": "transparent",
     "id": "a29040ce-ec07-419e-aec7-1a303371d356",
     "isComponent": true,
     "name": "train",
     "parents": [
      {
       "id": "61136854-4c61-4355-97c1-1d55a37e53f1",
       "name": "pca class"
      },
      {
       "id": "49f68d1e-76ae-4fa3-b908-e3ddc01e351e",
       "name": "split data"
      }
     ]
    },
    "tags": []
   },
   "outputs": [],
   "source": [
    "import runway\n",
    "\n",
    "# start run\n",
    "runway.start_run()\n",
    "\n",
    "# log param\n",
    "parameters = {\"n_components\": N_COMPONENTS}\n",
    "\n",
    "runway.log_parameters(parameters)\n",
    "\n",
    "detector = PCADetector(n_components=parameters[\"n_components\"])\n",
    "detector.fit(train)\n",
    "\n",
    "train_pred = detector.predict(train)\n",
    "valid_pred = detector.predict(valid)\n",
    "\n",
    "# log metric\n",
    "mean_train_recon_err = train_pred.mean()\n",
    "mean_valid_recon_err = valid_pred.mean()\n",
    "\n",
    "runway.log_metric(\"mean_train_recon_err\", mean_train_recon_err)\n",
    "runway.log_metric(\"mean_valid_recon_err\", mean_valid_recon_err)"
   ]
  },
  {
   "cell_type": "code",
   "execution_count": null,
   "id": "db3f5fe0-e787-4242-adeb-cf960355d965",
   "metadata": {
    "canvas": {
     "comments": [],
     "componentType": "CodeCell",
     "copiedOriginId": null,
     "diskcache": false,
     "headerColor": "transparent",
     "id": "e412ec17-99ef-4e21-9b0d-850a907f0e5f",
     "isComponent": true,
     "name": "send model to runway",
     "parents": [
      {
       "id": "a29040ce-ec07-419e-aec7-1a303371d356",
       "name": "train"
      }
     ]
    },
    "tags": []
   },
   "outputs": [],
   "source": [
    "import runway\n",
    "\n",
    "# log model\n",
    "input_sample = proc_df.sample(1)\n",
    "runway.log_model(model_name=\"pca-model\", model=detector, input_samples={\"predict\": input_sample})\n",
    "\n",
    "# stop run\n",
    "runway.stop_run()"
   ]
  }
 ],
 "metadata": {
  "canvas": {
   "colorPalette": [
    "inherit",
    "inherit",
    "inherit",
    "inherit",
    "inherit",
    "inherit",
    "inherit",
    "inherit",
    "inherit",
    "inherit"
   ],
   "parameters": [
    {
     "metadata": {
      "resource_id": 15,
      "resource_name": "train-data",
      "resource_type": "runway_dataset"
     },
     "name": "TRAIN_DATA",
     "type": "str",
     "value": "\"/home/jovyan/workspace/dataset/train-data\""
    },
    {
     "metadata": null,
     "name": "N_COMPONENTS",
     "type": "int",
     "value": "2"
    }
   ],
   "version": "1.0"
  },
  "kernelspec": {
   "display_name": "Python 3 (ipykernel)",
   "language": "python",
   "name": "python3"
  },
  "language_info": {
   "codemirror_mode": {
    "name": "ipython",
    "version": 3
   },
   "file_extension": ".py",
   "mimetype": "text/x-python",
   "name": "python",
   "nbconvert_exporter": "python",
   "pygments_lexer": "ipython3",
   "version": "3.9.18"
  }
 },
 "nbformat": 4,
 "nbformat_minor": 5
}
