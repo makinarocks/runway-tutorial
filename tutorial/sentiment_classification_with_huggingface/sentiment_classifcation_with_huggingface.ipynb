{
 "cells": [
  {
   "cell_type": "code",
   "execution_count": null,
   "id": "67e8f5b8-91c6-4708-acb5-706f819459aa",
   "metadata": {
    "canvas": {
     "comments": [],
     "componentType": "CodeCell",
     "copiedOriginId": null,
     "diskcache": false,
     "headerColor": "transparent",
     "id": "61bd3e6d-fcf3-4943-8b3e-89d6eefd9183",
     "isComponent": false,
     "name": "",
     "parents": []
    },
    "tags": []
   },
   "outputs": [],
   "source": [
    "# !pip install transformers[torch] datasets evaluate"
   ]
  },
  {
   "cell_type": "code",
   "execution_count": null,
   "id": "e205b56a-fcf5-4064-abcb-a7a26c03f3f8",
   "metadata": {
    "canvas": {
     "comments": [],
     "componentType": "CodeCell",
     "copiedOriginId": null,
     "diskcache": true,
     "headerColor": "transparent",
     "id": "ac7fc3c6-e156-4b5b-b702-35839a9f5482",
     "isComponent": true,
     "name": "read data",
     "parents": []
    },
    "tags": []
   },
   "outputs": [],
   "source": [
    "import os\n",
    "import pandas as pd\n",
    "\n",
    "dfs = []\n",
    "for dirname, _, filenames in os.walk(RUNWAY_DATA_PATH):\n",
    "    for filename in filenames:\n",
    "        if filename.endswith(\".csv\"):\n",
    "            d = pd.read_csv(os.path.join(dirname, filename))\n",
    "        elif filename.endswith(\".parquet\"):\n",
    "            d = pd.read_parquet(os.path.join(dirname, filename))\n",
    "        else:\n",
    "            raise ValueError(\"Not valid file type\")\n",
    "        dfs += [d]\n",
    "df = pd.concat(dfs)"
   ]
  },
  {
   "cell_type": "code",
   "execution_count": null,
   "id": "e97cb3c6-f8d4-4581-8a60-d117c4c3cce8",
   "metadata": {
    "canvas": {
     "comments": [],
     "componentType": "CodeCell",
     "copiedOriginId": null,
     "diskcache": true,
     "headerColor": "transparent",
     "id": "99d02281-bd10-4ce1-9e48-93e59ee9b4fb",
     "isComponent": true,
     "name": "dataset",
     "parents": [
      {
       "id": "ac7fc3c6-e156-4b5b-b702-35839a9f5482",
       "name": "read data"
      }
     ]
    },
    "tags": []
   },
   "outputs": [],
   "source": [
    "from datasets import Dataset\n",
    "\n",
    "ds = Dataset.from_pandas(df.head(100))\n",
    "ds.set_format(\"pt\")"
   ]
  },
  {
   "cell_type": "code",
   "execution_count": null,
   "id": "c0831afd-b4f7-4e13-a9d2-7425d26407ab",
   "metadata": {
    "canvas": {
     "comments": [],
     "componentType": "CodeCell",
     "copiedOriginId": null,
     "diskcache": true,
     "headerColor": "transparent",
     "id": "e6437211-b010-4d7a-913b-528b0a2af49d",
     "isComponent": true,
     "name": "preprocess function",
     "parents": []
    },
    "tags": []
   },
   "outputs": [],
   "source": [
    "from transformers import AutoTokenizer, DataCollatorWithPadding\n",
    "\n",
    "\n",
    "tokenizer = AutoTokenizer.from_pretrained(MODEL_ARCH_NAME)\n",
    "data_collator = DataCollatorWithPadding(tokenizer=tokenizer)\n",
    "\n",
    "\n",
    "def preprocess_function(examples):\n",
    "    return tokenizer(examples[\"text\"], truncation=True)"
   ]
  },
  {
   "cell_type": "code",
   "execution_count": null,
   "id": "a36f4ede-a001-4784-a457-1f95b09ebaf9",
   "metadata": {
    "canvas": {
     "comments": [],
     "componentType": "CodeCell",
     "copiedOriginId": null,
     "diskcache": true,
     "headerColor": "transparent",
     "id": "5cd26de5-4123-44ac-b5d5-830e952b91fe",
     "isComponent": true,
     "name": "preprocess",
     "parents": [
      {
       "id": "e6437211-b010-4d7a-913b-528b0a2af49d",
       "name": "preprocess function"
      },
      {
       "id": "99d02281-bd10-4ce1-9e48-93e59ee9b4fb",
       "name": "dataset"
      }
     ]
    },
    "tags": []
   },
   "outputs": [],
   "source": [
    "tokenized_ds = ds.map(preprocess_function, batch_size=True)"
   ]
  },
  {
   "cell_type": "code",
   "execution_count": null,
   "id": "723988dd-6d1b-45c8-9fc9-e2481c65d4a0",
   "metadata": {
    "canvas": {
     "comments": [],
     "componentType": "CodeCell",
     "copiedOriginId": null,
     "diskcache": true,
     "headerColor": "transparent",
     "id": "39cc6304-9123-4959-b396-d9a5028a07aa",
     "isComponent": true,
     "name": "declare model",
     "parents": []
    },
    "tags": []
   },
   "outputs": [],
   "source": [
    "import torch\n",
    "from transformers import AutoModelForSequenceClassification\n",
    "\n",
    "device = \"cuda\" if torch.cuda.is_available() else \"cpu\"\n",
    "id2label = {0: \"NEGATIVE\", 1: \"POSITIVE\"}\n",
    "label2id = {\"NEGATIVE\": 0, \"POSITIVE\": 1}\n",
    "model = AutoModelForSequenceClassification.from_pretrained(\n",
    "    MODEL_ARCH_NAME, num_labels=2, id2label=id2label, label2id=label2id\n",
    ").to(device)"
   ]
  },
  {
   "cell_type": "code",
   "execution_count": null,
   "id": "57b6bc43-d6a6-4b65-b684-22f395abc440",
   "metadata": {
    "canvas": {
     "comments": [],
     "componentType": "CodeCell",
     "copiedOriginId": null,
     "diskcache": false,
     "headerColor": "transparent",
     "id": "fea0ed27-eab1-4148-b0a0-085834ff262f",
     "isComponent": true,
     "name": "train model",
     "parents": [
      {
       "id": "39cc6304-9123-4959-b396-d9a5028a07aa",
       "name": "declare model"
      },
      {
       "id": "5cd26de5-4123-44ac-b5d5-830e952b91fe",
       "name": "preprocess"
      }
     ]
    },
    "tags": []
   },
   "outputs": [],
   "source": [
    "from transformers import TrainingArguments, Trainer\n",
    "\n",
    "\n",
    "training_args = TrainingArguments(\n",
    "    output_dir=\"tmp\",\n",
    "    learning_rate=2e-5,\n",
    "    per_device_train_batch_size=4,\n",
    "    num_train_epochs=1,\n",
    "    weight_decay=0.01,\n",
    ")\n",
    "\n",
    "trainer = Trainer(\n",
    "    model=model,\n",
    "    args=training_args,\n",
    "    train_dataset=tokenized_ds,\n",
    "    tokenizer=tokenizer,\n",
    "    data_collator=data_collator,\n",
    ")\n",
    "\n",
    "trainer.train()"
   ]
  },
  {
   "cell_type": "code",
   "execution_count": null,
   "id": "b5c3efec-e847-4416-bac9-f5d93c070c53",
   "metadata": {
    "canvas": {
     "comments": [],
     "componentType": "CodeCell",
     "copiedOriginId": null,
     "diskcache": false,
     "headerColor": "transparent",
     "id": "120630da-b7eb-406e-9e55-1096d28c3e89",
     "isComponent": true,
     "name": "hugging model",
     "parents": []
    },
    "tags": []
   },
   "outputs": [],
   "source": [
    "import pandas as pd\n",
    "\n",
    "\n",
    "class HuggingModel:\n",
    "    def __init__(self, pipeline):\n",
    "        self.pipeline = pipeline\n",
    "    \n",
    "    def predict(self, X):\n",
    "        result = self.pipeline(X[\"text\"].to_list())\n",
    "        return pd.DataFrame.from_dict(result)"
   ]
  },
  {
   "cell_type": "code",
   "execution_count": null,
   "id": "8f48f144-812c-4b3a-9a73-4ab525eb347c",
   "metadata": {
    "canvas": {
     "comments": [],
     "componentType": "CodeCell",
     "copiedOriginId": null,
     "diskcache": false,
     "headerColor": "transparent",
     "id": "3e28d79b-f802-4e3d-9c2e-07eb4b20e12a",
     "isComponent": true,
     "name": "wrap model",
     "parents": [
      {
       "id": "fea0ed27-eab1-4148-b0a0-085834ff262f",
       "name": "train model"
      },
      {
       "id": "120630da-b7eb-406e-9e55-1096d28c3e89",
       "name": "hugging model"
      }
     ]
    },
    "tags": []
   },
   "outputs": [],
   "source": [
    "from transformers import pipeline\n",
    "\n",
    "\n",
    "model = model.to(\"cpu\")\n",
    "pipe = pipeline(\"text-classification\", model=model, tokenizer=tokenizer)\n",
    "\n",
    "hug_model = HuggingModel(pipe)"
   ]
  },
  {
   "cell_type": "code",
   "execution_count": null,
   "id": "69b92d6b-6bb3-4547-9082-3fc8e2cfdc0f",
   "metadata": {
    "canvas": {
     "comments": [],
     "componentType": "CodeCell",
     "copiedOriginId": null,
     "diskcache": false,
     "headerColor": "transparent",
     "id": "d03cbb06-a490-4944-be56-a646087de6ef",
     "isComponent": true,
     "name": "input_sample",
     "parents": [
      {
       "id": "3e28d79b-f802-4e3d-9c2e-07eb4b20e12a",
       "name": "wrap model"
      }
     ]
    },
    "tags": []
   },
   "outputs": [],
   "source": [
    "input_sample = df.sample(1).drop(columns=[\"label\"])"
   ]
  },
  {
   "cell_type": "code",
   "execution_count": null,
   "id": "808a9b8c-20e2-4bc0-907f-0509fe5d91a1",
   "metadata": {
    "canvas": {
     "comments": [],
     "componentType": "CodeCell",
     "copiedOriginId": null,
     "diskcache": false,
     "headerColor": "transparent",
     "id": "e340e7e1-483f-4e7d-a09f-caedbc163485",
     "isComponent": true,
     "name": "send model to runway",
     "parents": [
      {
       "id": "d03cbb06-a490-4944-be56-a646087de6ef",
       "name": "input_sample"
      }
     ]
    },
    "tags": []
   },
   "outputs": [],
   "source": [
    "import runway\n",
    "\n",
    "runway.log_model(model_name='my-model', model=hug_model, input_samples={'predict': input_sample})\n"
   ]
  }
 ],
 "metadata": {
  "canvas": {
   "colorPalette": [
    "inherit",
    "inherit",
    "inherit",
    "inherit",
    "inherit",
    "inherit",
    "inherit",
    "inherit",
    "inherit",
    "inherit"
   ],
   "parameters": [
    {
     "name": "RUNWAY_DATA_PATH",
     "type": "str",
     "value": "\"./dataset\""
    },
    {
     "name": "MODEL_ARCH_NAME",
     "type": "str",
     "value": "\"distilbert-base-uncased\""
    }
   ],
   "version": "1.0"
  },
  "kernelspec": {
   "display_name": "Python 3 (ipykernel)",
   "language": "python",
   "name": "python3"
  },
  "language_info": {
   "codemirror_mode": {
    "name": "ipython",
    "version": 3
   },
   "file_extension": ".py",
   "mimetype": "text/x-python",
   "name": "python",
   "nbconvert_exporter": "python",
   "pygments_lexer": "ipython3",
   "version": "3.9.14"
  }
 },
 "nbformat": 4,
 "nbformat_minor": 5
}
