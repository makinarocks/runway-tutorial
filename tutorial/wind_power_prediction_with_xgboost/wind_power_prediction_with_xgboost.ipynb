{
 "cells": [
  {
   "cell_type": "code",
   "execution_count": null,
   "id": "8f712b8d-4d6b-4139-8044-2d6f60c601f0",
   "metadata": {
    "canvas": {
     "comments": [],
     "componentType": "CodeCell",
     "copiedOriginId": null,
     "diskcache": false,
     "headerColor": "transparent",
     "id": "04c59587-68d1-43bc-80c3-d7b7ec33913b",
     "isComponent": false,
     "name": "",
     "parents": []
    }
   },
   "outputs": [],
   "source": [
    "!pip install xgboost"
   ]
  },
  {
   "cell_type": "code",
   "execution_count": null,
   "id": "4109eb30-e731-4361-b808-aae89161ff01",
   "metadata": {
    "canvas": {
     "comments": [],
     "componentType": "CodeCell",
     "copiedOriginId": null,
     "diskcache": true,
     "headerColor": "transparent",
     "id": "55c10414-a2a4-41ae-9c7f-2d20063e9618",
     "isComponent": true,
     "name": "RUNWAY_DATA_PATH",
     "parents": []
    },
    "tags": []
   },
   "outputs": [],
   "source": [
    "import os\n",
    "import pandas as pd\n",
    "\n",
    "dfs = []\n",
    "for dirname, _, filenames in os.walk(RUNWAY_DATA_PATH):\n",
    "    for filename in filenames:\n",
    "        if filename.endswith(\".csv\"):\n",
    "            d = pd.read_csv(os.path.join(dirname, filename))\n",
    "        elif filename.endswith(\".parquet\"):\n",
    "            d = pd.read_parquet(os.path.join(dirname, filename))\n",
    "        else:\n",
    "            raise ValueError(\"Not valid file type\")\n",
    "        dfs += [d]\n",
    "\n",
    "df = pd.concat(dfs)\n",
    "df.columns = df.columns.map(lambda x: x.lower())"
   ]
  },
  {
   "cell_type": "code",
   "execution_count": null,
   "id": "75a29851-fa9e-4ca0-9f70-cab0eead9bdf",
   "metadata": {
    "canvas": {
     "comments": [],
     "componentType": "CodeCell",
     "copiedOriginId": null,
     "diskcache": true,
     "headerColor": "transparent",
     "id": "3c94201b-7370-473a-a22a-9370d75eab27",
     "isComponent": true,
     "name": "set data",
     "parents": [
      {
       "id": "55c10414-a2a4-41ae-9c7f-2d20063e9618",
       "name": "RUNWAY_DATA_PATH"
      }
     ]
    },
    "tags": []
   },
   "outputs": [],
   "source": [
    "X_columns = [\n",
    "    \"ambienttemperatue\",\n",
    "    \"bearingshafttemperature\",\n",
    "    \"blade1pitchangle\",\n",
    "    \"blade2pitchangle\",\n",
    "    \"blade3pitchangle\",\n",
    "    \"controlboxtemperature\",\n",
    "    \"gearboxbearingtemperature\",\n",
    "    \"gearboxoiltemperature\",\n",
    "    \"generatorrpm\",\n",
    "    \"generatorwinding1temperature\",\n",
    "    \"generatorwinding2temperature\",\n",
    "    \"hubtemperature\",\n",
    "    \"mainboxtemperature\",\n",
    "    \"nacelleposition\",\n",
    "    \"reactivepower\",\n",
    "    \"rotorrpm\",\n",
    "    \"turbinestatus\",\n",
    "    \"winddirection\",\n",
    "    \"windspeed\",\n",
    "]\n",
    "y_column = \"activepower\"\n",
    "\n",
    "\n",
    "X_df = df[X_columns]\n",
    "y_df = df[y_column]"
   ]
  },
  {
   "cell_type": "code",
   "execution_count": null,
   "id": "38d8b173-410e-4cd6-b13d-ebd4e4873dc2",
   "metadata": {
    "canvas": {
     "comments": [],
     "componentType": "CodeCell",
     "copiedOriginId": null,
     "diskcache": true,
     "headerColor": "transparent",
     "id": "a6dac74b-584f-4936-8144-fd664122c36b",
     "isComponent": true,
     "name": "split train test",
     "parents": [
      {
       "id": "3c94201b-7370-473a-a22a-9370d75eab27",
       "name": "set data"
      }
     ]
    },
    "tags": []
   },
   "outputs": [],
   "source": [
    "from sklearn.model_selection import train_test_split\n",
    "\n",
    "## Split data into training and testing sets\n",
    "X_train, X_valid, y_train, y_valid = train_test_split(X_df, y_df, test_size=0.2, random_state=2024)"
   ]
  },
  {
   "cell_type": "code",
   "execution_count": null,
   "id": "e69c3dfe-8676-4431-ad19-cb2d4180d209",
   "metadata": {
    "canvas": {
     "comments": [],
     "componentType": "CodeCell",
     "copiedOriginId": null,
     "diskcache": true,
     "headerColor": "transparent",
     "id": "adc8b4e0-9f76-4114-94cc-6cb1d4c9a670",
     "isComponent": true,
     "name": "declare xgb regressor",
     "parents": []
    },
    "tags": []
   },
   "outputs": [],
   "source": [
    "import xgboost as xgb\n",
    "from sklearn.metrics import mean_absolute_error, mean_squared_error\n",
    "\n",
    "\n",
    "params = {\n",
    "    \"objective\": \"reg:squarederror\",\n",
    "    \"learning_rate\": LEARNING_RATE,\n",
    "    \"max_depth\": MAX_DEPTH,\n",
    "    \"alpha\": ALPHA,\n",
    "    \"n_estimators\": N_ESTIMATORS,\n",
    "    }\n",
    "\n",
    "regr = xgb.XGBRegressor(\n",
    "    objective=params[\"objective\"],\n",
    "    learning_rate=params[\"learning_rate\"],\n",
    "    max_depth=params[\"max_depth\"],\n",
    "    alpha=params[\"alpha\"],\n",
    "    n_estimators=params[\"n_estimators\"],\n",
    ")"
   ]
  },
  {
   "cell_type": "code",
   "execution_count": null,
   "id": "5302316d-e69a-448f-b4c5-4ea144ec7a23",
   "metadata": {
    "canvas": {
     "comments": [],
     "componentType": "CodeCell",
     "copiedOriginId": null,
     "diskcache": true,
     "headerColor": "transparent",
     "id": "ddfb4009-6062-4317-9191-204b2ab351b0",
     "isComponent": true,
     "name": "train model",
     "parents": [
      {
       "id": "adc8b4e0-9f76-4114-94cc-6cb1d4c9a670",
       "name": "declare xgb regressor"
      },
      {
       "id": "a6dac74b-584f-4936-8144-fd664122c36b",
       "name": "split train test"
      }
     ]
    },
    "tags": []
   },
   "outputs": [],
   "source": [
    "regr.fit(X_train, y_train, eval_set=[(X_valid, y_valid)])\n",
    "\n",
    "y_pred = regr.predict(X_valid)\n",
    "mae = mean_absolute_error(y_pred, y_valid)\n",
    "mse = mean_squared_error(y_pred, y_valid)\n",
    "mse"
   ]
  },
  {
   "cell_type": "code",
   "execution_count": null,
   "id": "16fc04f0-2288-464a-bb20-883ea298bb4e",
   "metadata": {
    "canvas": {
     "comments": [],
     "componentType": "CodeCell",
     "copiedOriginId": null,
     "diskcache": false,
     "headerColor": "transparent",
     "id": "5f73cf3c-dcc2-41ab-a3a4-4ef4f1a46b25",
     "isComponent": true,
     "name": "model wrapper class",
     "parents": []
    },
    "tags": []
   },
   "outputs": [],
   "source": [
    "import mlflow\n",
    "import pandas as pd\n",
    "\n",
    "\n",
    "class RunwayModel(mlflow.pyfunc.PythonModel):\n",
    "    def __init__(self, xgb_regressor):\n",
    "        self._regr = xgb_regressor\n",
    "\n",
    "    def predict(self, context, X):\n",
    "        df, uuid = X.drop(columns=[\"uuid\"]), X[[\"uuid\"]].reset_index(drop=True)\n",
    "        uuid = uuid.rename(columns={\"uuid\": \"pred_uuid\"})\n",
    "        pred = self._regr.predict(df)\n",
    "        activepower_pred = {\"activepower\": pred}\n",
    "        pred_df = pd.DataFrame(activepower_pred)\n",
    "        return pd.concat([pred_df, uuid], axis=1)"
   ]
  },
  {
   "cell_type": "code",
   "execution_count": null,
   "id": "53abffe8-c2ee-4e41-8734-ab4473eb0771",
   "metadata": {
    "canvas": {
     "comments": [],
     "componentType": "CodeCell",
     "copiedOriginId": null,
     "diskcache": false,
     "headerColor": "transparent",
     "id": "d8f7ecea-345d-4ac7-b727-6258fe7e2682",
     "isComponent": true,
     "name": "send model to runway",
     "parents": [
      {
       "id": "5f73cf3c-dcc2-41ab-a3a4-4ef4f1a46b25",
       "name": "model wrapper class"
      },
      {
       "id": "ddfb4009-6062-4317-9191-204b2ab351b0",
       "name": "train model"
      }
     ]
    },
    "tags": []
   },
   "outputs": [],
   "source": [
    "import mlflow\n",
    "import runway\n",
    "\n",
    "with mlflow.start_run():\n",
    "    runway_model = RunwayModel(regr)\n",
    "    input_columns = X_columns + [\"uuid\"]\n",
    "    input_df = df[input_columns]\n",
    "    input_sample = input_df.sample(1)\n",
    "\n",
    "    mlflow.log_params(params)\n",
    "    mlflow.log_metric(\"valid_mae\", mae)\n",
    "    mlflow.log_metric(\"valid_mse\", mse)\n",
    "\n",
    "    runway.log_model(\n",
    "        model=runway_model,\n",
    "        model_name=\"my-xgboost-regressor\",\n",
    "        input_samples={\"predict\": input_sample},\n",
    "    )"
   ]
  },
  {
   "cell_type": "code",
   "execution_count": null,
   "id": "ac8c16f3-b3aa-45e5-afb4-761f48a9d123",
   "metadata": {
    "canvas": {
     "comments": [],
     "componentType": "CodeCell",
     "copiedOriginId": null,
     "diskcache": false,
     "headerColor": "transparent",
     "id": "589a799a-ab35-4a33-a0e5-b83692a86a68",
     "isComponent": false,
     "name": "",
     "parents": []
    }
   },
   "outputs": [],
   "source": []
  }
 ],
 "metadata": {
  "canvas": {
   "colorPalette": [
    "inherit",
    "inherit",
    "inherit",
    "inherit",
    "inherit",
    "inherit",
    "inherit",
    "inherit",
    "inherit",
    "inherit"
   ],
   "parameters": [
    {
     "metadata": {
      "dataset_version_id": 569,
      "is_latest": true,
      "resource_id": 587,
      "resource_name": "train-data",
      "resource_type": "runway_dataset"
     },
     "name": "RUNWAY_DATA_PATH",
     "type": "str",
     "value": "\"/home/jovyan/workspace/dataset/train-data/latest\""
    },
    {
     "metadata": null,
     "name": "LEARNING_RATE",
     "type": "float",
     "value": "0.1"
    },
    {
     "metadata": null,
     "name": "MAX_DEPTH",
     "type": "int",
     "value": "8"
    },
    {
     "metadata": null,
     "name": "ALPHA",
     "type": "int",
     "value": "10"
    },
    {
     "metadata": null,
     "name": "N_ESTIMATORS",
     "type": "int",
     "value": "620"
    }
   ],
   "version": "1.0"
  },
  "kernelspec": {
   "display_name": "Python 3 (ipykernel)",
   "language": "python",
   "name": "python3"
  },
  "language_info": {
   "codemirror_mode": {
    "name": "ipython",
    "version": 3
   },
   "file_extension": ".py",
   "mimetype": "text/x-python",
   "name": "python",
   "nbconvert_exporter": "python",
   "pygments_lexer": "ipython3",
   "version": "3.9.18"
  }
 },
 "nbformat": 4,
 "nbformat_minor": 5
}
