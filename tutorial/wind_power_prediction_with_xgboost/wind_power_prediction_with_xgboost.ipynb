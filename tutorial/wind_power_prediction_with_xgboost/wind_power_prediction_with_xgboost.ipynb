{
 "cells": [
  {
   "cell_type": "code",
   "execution_count": null,
   "id": "8f712b8d-4d6b-4139-8044-2d6f60c601f0",
   "metadata": {
    "canvas": {
     "comments": [],
     "componentType": "CodeCell",
     "copiedOriginId": null,
     "diskcache": false,
     "headerColor": "transparent",
     "id": "04c59587-68d1-43bc-80c3-d7b7ec33913b",
     "isComponent": false,
     "name": "",
     "parents": []
    }
   },
   "outputs": [],
   "source": [
    "!pip install xgboost"
   ]
  },
  {
   "cell_type": "code",
   "execution_count": null,
   "id": "4109eb30-e731-4361-b808-aae89161ff01",
   "metadata": {
    "canvas": {
     "comments": [],
     "componentType": "CodeCell",
     "copiedOriginId": null,
     "diskcache": true,
     "headerColor": "transparent",
     "id": "55c10414-a2a4-41ae-9c7f-2d20063e9618",
     "isComponent": true,
     "name": "RUNWAY_DATA_PATH",
     "parents": []
    },
    "tags": []
   },
   "outputs": [],
   "source": [
    "import os\n",
    "import pandas as pd\n",
    "\n",
    "dfs = []\n",
    "for dirname, _, filenames in os.walk(RUNWAY_DATA_PATH):\n",
    "    for filename in filenames:\n",
    "        if filename.endswith(\".csv\"):\n",
    "            d = pd.read_csv(os.path.join(dirname, filename))\n",
    "        elif filename.endswith(\".parquet\"):\n",
    "            d = pd.read_parquet(os.path.join(dirname, filename))\n",
    "        else:\n",
    "            raise ValueError(\"Not valid file type\")\n",
    "        dfs += [d]\n",
    "\n",
    "df = pd.concat(dfs)\n",
    "df.columns = df.columns.map(lambda x: x.lower())"
   ]
  },
  {
   "cell_type": "code",
   "execution_count": null,
   "id": "75a29851-fa9e-4ca0-9f70-cab0eead9bdf",
   "metadata": {
    "canvas": {
     "comments": [],
     "componentType": "CodeCell",
     "copiedOriginId": null,
     "diskcache": true,
     "headerColor": "transparent",
     "id": "3c94201b-7370-473a-a22a-9370d75eab27",
     "isComponent": true,
     "name": "set data",
     "parents": [
      {
       "id": "55c10414-a2a4-41ae-9c7f-2d20063e9618",
       "name": "RUNWAY_DATA_PATH"
      }
     ]
    },
    "tags": []
   },
   "outputs": [],
   "source": [
    "X_columns = [\n",
    "    \"activepower\",\n",
    "    \"ambienttemperatue\",\n",
    "    \"bearingshafttemperature\",\n",
    "    \"blade1pitchangle\",\n",
    "    \"blade2pitchangle\",\n",
    "    \"blade3pitchangle\",\n",
    "    \"controlboxtemperature\",\n",
    "    \"gearboxbearingtemperature\",\n",
    "    \"gearboxoiltemperature\",\n",
    "    \"generatorrpm\",\n",
    "    \"generatorwinding1temperature\",\n",
    "    \"generatorwinding2temperature\",\n",
    "    \"hubtemperature\",\n",
    "    \"mainboxtemperature\",\n",
    "    \"nacelleposition\",\n",
    "    \"reactivepower\",\n",
    "    \"rotorrpm\",\n",
    "    \"turbinestatus\",\n",
    "    \"winddirection\",\n",
    "    \"windspeed\",\n",
    "]\n",
    "y_column = \"activepower\"\n",
    "\n",
    "\n",
    "X_df = df[X_columns]\n",
    "y_df = df[y_column]"
   ]
  },
  {
   "cell_type": "code",
   "execution_count": null,
   "id": "38d8b173-410e-4cd6-b13d-ebd4e4873dc2",
   "metadata": {
    "canvas": {
     "comments": [],
     "componentType": "CodeCell",
     "copiedOriginId": null,
     "diskcache": true,
     "headerColor": "transparent",
     "id": "a6dac74b-584f-4936-8144-fd664122c36b",
     "isComponent": true,
     "name": "split train test",
     "parents": [
      {
       "id": "3c94201b-7370-473a-a22a-9370d75eab27",
       "name": "set data"
      }
     ]
    },
    "tags": []
   },
   "outputs": [],
   "source": [
    "from sklearn.model_selection import train_test_split\n",
    "\n",
    "## Split data into training and testing sets\n",
    "X_train, X_valid, y_train, y_valid = train_test_split(X_df, y_df, test_size=0.2)"
   ]
  },
  {
   "cell_type": "code",
   "execution_count": null,
   "id": "7a9943ce-6e77-496e-bc8c-d40a5169b6df",
   "metadata": {
    "canvas": {
     "comments": [],
     "componentType": "CodeCell",
     "copiedOriginId": null,
     "diskcache": false,
     "headerColor": "transparent",
     "id": "796bf59f-689f-4f2c-b6bd-b0a35eb04623",
     "isComponent": false,
     "name": "",
     "parents": []
    }
   },
   "outputs": [],
   "source": [
    "xgb.XGBRegressor?"
   ]
  },
  {
   "cell_type": "code",
   "execution_count": null,
   "id": "e69c3dfe-8676-4431-ad19-cb2d4180d209",
   "metadata": {
    "canvas": {
     "comments": [],
     "componentType": "CodeCell",
     "copiedOriginId": null,
     "diskcache": true,
     "headerColor": "transparent",
     "id": "adc8b4e0-9f76-4114-94cc-6cb1d4c9a670",
     "isComponent": true,
     "name": "Create xgb regressor",
     "parents": []
    },
    "tags": []
   },
   "outputs": [],
   "source": [
    "import xgboost as xgb\n",
    "from sklearn.metrics import mean_absolute_error, mean_squared_error\n",
    "\n",
    "\n",
    "params = {\n",
    "    \"objective\": \"reg:squarederror\",\n",
    "    \"learning_rate\": LEARNING_RATE,\n",
    "    \"max_depth\": MAX_DEPTH,\n",
    "    \"alpha\": ALPHA,\n",
    "    \"n_estimators\": N_ESTIMATORS,\n",
    "    }\n",
    "\n",
    "regr = xgb.XGBRegressor(\n",
    "    objective=params[\"objective\"],\n",
    "    learning_rate=params[\"learning_rate\"],\n",
    "    max_depth=params[\"max_depth\"],\n",
    "    alpha=params[\"alpha\"],\n",
    "    n_estimators=params[\"n_estimators\"],\n",
    ")"
   ]
  },
  {
   "cell_type": "code",
   "execution_count": null,
   "id": "5302316d-e69a-448f-b4c5-4ea144ec7a23",
   "metadata": {
    "canvas": {
     "comments": [],
     "componentType": "CodeCell",
     "copiedOriginId": null,
     "diskcache": true,
     "headerColor": "transparent",
     "id": "ddfb4009-6062-4317-9191-204b2ab351b0",
     "isComponent": true,
     "name": "Fit a model",
     "parents": [
      {
       "id": "adc8b4e0-9f76-4114-94cc-6cb1d4c9a670",
       "name": "Create xgb regressor"
      },
      {
       "id": "a6dac74b-584f-4936-8144-fd664122c36b",
       "name": "split train test"
      }
     ]
    },
    "tags": []
   },
   "outputs": [],
   "source": [
    "regr.fit(X_train, y_train, eval_set=[(X_valid, y_valid)])\n",
    "\n",
    "y_pred = regr.predict(X_valid)\n",
    "mae = mean_absolute_error(y_pred, y_valid)\n",
    "mse = mean_squared_error(y_pred, y_valid)"
   ]
  },
  {
   "cell_type": "code",
   "execution_count": null,
   "id": "16fc04f0-2288-464a-bb20-883ea298bb4e",
   "metadata": {
    "canvas": {
     "comments": [],
     "componentType": "CodeCell",
     "copiedOriginId": null,
     "diskcache": false,
     "headerColor": "transparent",
     "id": "5f73cf3c-dcc2-41ab-a3a4-4ef4f1a46b25",
     "isComponent": true,
     "name": "Create model wrapper",
     "parents": []
    },
    "tags": []
   },
   "outputs": [],
   "source": [
    "import pandas as pd\n",
    "\n",
    "class RunwayModel:\n",
    "    def __init__(self, xgb_regressor):\n",
    "        self._regr = xgb_regressor\n",
    "\n",
    "    def predict(self, X):\n",
    "        return pd.DataFrame(\n",
    "            {\n",
    "                \"activepower\": self._regr.predict(X),\n",
    "            }\n",
    "        )"
   ]
  },
  {
   "cell_type": "code",
   "execution_count": null,
   "id": "f00f3927-ba8f-41ec-9462-405fdb343015",
   "metadata": {
    "canvas": {
     "comments": [],
     "componentType": "CodeCell",
     "copiedOriginId": null,
     "diskcache": false,
     "headerColor": "transparent",
     "id": "3409df10-90e9-4a68-a3db-6f79ec44d99c",
     "isComponent": true,
     "name": "wrap model",
     "parents": [
      {
       "id": "ddfb4009-6062-4317-9191-204b2ab351b0",
       "name": "Fit a model"
      },
      {
       "id": "5f73cf3c-dcc2-41ab-a3a4-4ef4f1a46b25",
       "name": "Create model wrapper"
      }
     ]
    },
    "tags": []
   },
   "outputs": [],
   "source": [
    "runway_model = RunwayModel(regr)"
   ]
  },
  {
   "cell_type": "code",
   "execution_count": null,
   "id": "eeac681d-f145-4e7d-8c9e-1dfc4904f7dc",
   "metadata": {
    "canvas": {
     "comments": [],
     "componentType": "CodeCell",
     "copiedOriginId": null,
     "diskcache": false,
     "headerColor": "transparent",
     "id": "52102ab7-baea-42e0-8f1e-2bf40c1a9eb0",
     "isComponent": true,
     "name": "input sample",
     "parents": [
      {
       "id": "3409df10-90e9-4a68-a3db-6f79ec44d99c",
       "name": "wrap model"
      }
     ]
    },
    "tags": []
   },
   "outputs": [],
   "source": [
    "input_sample = X_df.sample(1)\n",
    "input_sample"
   ]
  },
  {
   "cell_type": "code",
   "execution_count": null,
   "id": "53abffe8-c2ee-4e41-8734-ab4473eb0771",
   "metadata": {
    "canvas": {
     "comments": [],
     "componentType": "CodeCell",
     "copiedOriginId": null,
     "diskcache": false,
     "headerColor": "transparent",
     "id": "d8f7ecea-345d-4ac7-b727-6258fe7e2682",
     "isComponent": true,
     "name": "Save model in runway",
     "parents": [
      {
       "id": "52102ab7-baea-42e0-8f1e-2bf40c1a9eb0",
       "name": "input sample"
      }
     ]
    },
    "tags": []
   },
   "outputs": [],
   "source": [
    "import runway\n",
    "\n",
    "runway.start_run()\n",
    "runway.log_parameters(params)\n",
    "runway.log_metric(\"valid_mae\", mae)\n",
    "runway.log_metric(\"valid_mse\", mse)\n",
    "\n",
    "runway.log_model(model_name=\"my-xgboost-regressor\", model=runway_model, input_samples={\"predict\": input_sample})\n"
   ]
  }
 ],
 "metadata": {
  "canvas": {
   "colorPalette": [
    "inherit",
    "inherit",
    "inherit",
    "inherit",
    "inherit",
    "inherit",
    "inherit",
    "inherit",
    "inherit",
    "inherit"
   ],
   "parameters": [
    {
     "name": "RUNWAY_DATA_PATH",
     "type": "str",
     "value": "\"./dataset\""
    },
    {
     "name": "LEARNING_RATE",
     "type": "float",
     "value": "0.1"
    },
    {
     "name": "MAX_DEPTH",
     "type": "int",
     "value": "5"
    },
    {
     "name": "ALPHA",
     "type": "int",
     "value": "10"
    },
    {
     "name": "N_ESTIMATORS",
     "type": "int",
     "value": "10"
    }
   ],
   "version": "1.0"
  },
  "kernelspec": {
   "display_name": "Python 3 (ipykernel)",
   "language": "python",
   "name": "python3"
  },
  "language_info": {
   "codemirror_mode": {
    "name": "ipython",
    "version": 3
   },
   "file_extension": ".py",
   "mimetype": "text/x-python",
   "name": "python",
   "nbconvert_exporter": "python",
   "pygments_lexer": "ipython3",
   "version": "3.8.10"
  }
 },
 "nbformat": 4,
 "nbformat_minor": 5
}
