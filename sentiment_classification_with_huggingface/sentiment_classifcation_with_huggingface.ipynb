{
 "cells": [
  {
   "cell_type": "code",
   "execution_count": null,
   "id": "67e8f5b8-91c6-4708-acb5-706f819459aa",
   "metadata": {
    "canvas": {
     "comments": [],
     "componentType": "CodeCell",
     "copiedOriginId": null,
     "diskcache": false,
     "headerColor": "transparent",
     "id": "61bd3e6d-fcf3-4943-8b3e-89d6eefd9183",
     "isComponent": false,
     "name": "",
     "parents": []
    },
    "tags": []
   },
   "outputs": [],
   "source": [
    "# !pip install transformers[torch] datasets evaluate"
   ]
  },
  {
   "cell_type": "code",
   "execution_count": null,
   "id": "e205b56a-fcf5-4064-abcb-a7a26c03f3f8",
   "metadata": {
    "canvas": {
     "comments": [],
     "componentType": "CodeCell",
     "copiedOriginId": null,
     "diskcache": true,
     "headerColor": "transparent",
     "id": "ac7fc3c6-e156-4b5b-b702-35839a9f5482",
     "isComponent": true,
     "name": "read data",
     "parents": []
    },
    "tags": []
   },
   "outputs": [],
   "source": [
    "# RUNWAY_DATA_PATH는 Link Pipeline Parameters로 등록 되어 있어야 합니다.\n",
    "import pandas as pd\n",
    "\n",
    "df = pd.read_parquet(RUNWAY_DATA_PATH)"
   ]
  },
  {
   "cell_type": "code",
   "execution_count": null,
   "id": "e97cb3c6-f8d4-4581-8a60-d117c4c3cce8",
   "metadata": {
    "canvas": {
     "comments": [],
     "componentType": "CodeCell",
     "copiedOriginId": null,
     "diskcache": true,
     "headerColor": "transparent",
     "id": "99d02281-bd10-4ce1-9e48-93e59ee9b4fb",
     "isComponent": true,
     "name": "dataset",
     "parents": [
      {
       "id": "ac7fc3c6-e156-4b5b-b702-35839a9f5482",
       "name": "read data"
      }
     ]
    },
    "tags": []
   },
   "outputs": [],
   "source": [
    "from datasets import Dataset\n",
    "\n",
    "ds = Dataset.from_pandas(df.head(100))\n",
    "ds.set_format(\"pt\")"
   ]
  },
  {
   "cell_type": "code",
   "execution_count": null,
   "id": "c0831afd-b4f7-4e13-a9d2-7425d26407ab",
   "metadata": {
    "canvas": {
     "comments": [],
     "componentType": "CodeCell",
     "copiedOriginId": null,
     "diskcache": true,
     "headerColor": "transparent",
     "id": "e6437211-b010-4d7a-913b-528b0a2af49d",
     "isComponent": true,
     "name": "preprocess function",
     "parents": []
    },
    "tags": []
   },
   "outputs": [],
   "source": [
    "from transformers import AutoTokenizer, DataCollatorWithPadding\n",
    "\n",
    "\n",
    "tokenizer = AutoTokenizer.from_pretrained(MODEL_ARCH_NAME)\n",
    "data_collator = DataCollatorWithPadding(tokenizer=tokenizer)\n",
    "\n",
    "\n",
    "def preprocess_function(examples):\n",
    "    return tokenizer(examples[\"text\"], truncation=True)"
   ]
  },
  {
   "cell_type": "code",
   "execution_count": null,
   "id": "a36f4ede-a001-4784-a457-1f95b09ebaf9",
   "metadata": {
    "canvas": {
     "comments": [],
     "componentType": "CodeCell",
     "copiedOriginId": null,
     "diskcache": true,
     "headerColor": "transparent",
     "id": "5cd26de5-4123-44ac-b5d5-830e952b91fe",
     "isComponent": true,
     "name": "preprocess",
     "parents": [
      {
       "id": "e6437211-b010-4d7a-913b-528b0a2af49d",
       "name": "preprocess function"
      },
      {
       "id": "99d02281-bd10-4ce1-9e48-93e59ee9b4fb",
       "name": "dataset"
      }
     ]
    },
    "tags": []
   },
   "outputs": [
    {
     "data": {
      "application/vnd.jupyter.widget-view+json": {
       "model_id": "",
       "version_major": 2,
       "version_minor": 0
      },
      "text/plain": [
       "Map:   0%|          | 0/100 [00:00<?, ? examples/s]"
      ]
     },
     "metadata": {
      "component_id": "5cd26de5-4123-44ac-b5d5-830e952b91fe"
     },
     "output_type": "display_data"
    }
   ],
   "source": [
    "tokenized_ds = ds.map(preprocess_function, batch_size=True)"
   ]
  },
  {
   "cell_type": "code",
   "execution_count": null,
   "id": "723988dd-6d1b-45c8-9fc9-e2481c65d4a0",
   "metadata": {
    "canvas": {
     "comments": [],
     "componentType": "CodeCell",
     "copiedOriginId": null,
     "diskcache": true,
     "headerColor": "transparent",
     "id": "39cc6304-9123-4959-b396-d9a5028a07aa",
     "isComponent": true,
     "name": "declare model",
     "parents": []
    },
    "tags": []
   },
   "outputs": [
    {
     "name": "stderr",
     "output_type": "stream",
     "text": [
      "Some weights of the model checkpoint at distilbert-base-uncased were not used when initializing DistilBertForSequenceClassification: ['vocab_transform.weight', 'vocab_layer_norm.weight', 'vocab_transform.bias', 'vocab_layer_norm.bias', 'vocab_projector.bias']\n",
      "- This IS expected if you are initializing DistilBertForSequenceClassification from the checkpoint of a model trained on another task or with another architecture (e.g. initializing a BertForSequenceClassification model from a BertForPreTraining model).\n",
      "- This IS NOT expected if you are initializing DistilBertForSequenceClassification from the checkpoint of a model that you expect to be exactly identical (initializing a BertForSequenceClassification model from a BertForSequenceClassification model).\n",
      "Some weights of DistilBertForSequenceClassification were not initialized from the model checkpoint at distilbert-base-uncased and are newly initialized: ['pre_classifier.weight', 'classifier.weight', 'pre_classifier.bias', 'classifier.bias']\n",
      "You should probably TRAIN this model on a down-stream task to be able to use it for predictions and inference.\n"
     ]
    }
   ],
   "source": [
    "import torch\n",
    "from transformers import AutoModelForSequenceClassification\n",
    "\n",
    "device = \"cuda\" if torch.cuda.is_available() else \"cpu\"\n",
    "id2label = {0: \"NEGATIVE\", 1: \"POSITIVE\"}\n",
    "label2id = {\"NEGATIVE\": 0, \"POSITIVE\": 1}\n",
    "model = AutoModelForSequenceClassification.from_pretrained(\n",
    "    MODEL_ARCH_NAME, num_labels=2, id2label=id2label, label2id=label2id\n",
    ").to(device)"
   ]
  },
  {
   "cell_type": "code",
   "execution_count": null,
   "id": "57b6bc43-d6a6-4b65-b684-22f395abc440",
   "metadata": {
    "canvas": {
     "comments": [],
     "componentType": "CodeCell",
     "copiedOriginId": null,
     "diskcache": false,
     "headerColor": "transparent",
     "id": "fea0ed27-eab1-4148-b0a0-085834ff262f",
     "isComponent": true,
     "name": "train model",
     "parents": [
      {
       "id": "39cc6304-9123-4959-b396-d9a5028a07aa",
       "name": "declare model"
      },
      {
       "id": "5cd26de5-4123-44ac-b5d5-830e952b91fe",
       "name": "preprocess"
      }
     ]
    },
    "tags": []
   },
   "outputs": [
    {
     "name": "stderr",
     "output_type": "stream",
     "text": [
      "/home/jovyan/.local/lib/python3.9/site-packages/transformers/optimization.py:411: FutureWarning: This implementation of AdamW is deprecated and will be removed in a future version. Use the PyTorch implementation torch.optim.AdamW instead, or set `no_deprecation_warning=True` to disable this warning\n",
      "  warnings.warn(\n"
     ]
    },
    {
     "name": "stdout",
     "output_type": "stream",
     "text": [
      "huggingface/tokenizers: The current process just got forked, after parallelism has already been used. Disabling parallelism to avoid deadlocks...\n",
      "To disable this warning, you can either:\n",
      "\t- Avoid using `tokenizers` before the fork if possible\n",
      "\t- Explicitly set the environment variable TOKENIZERS_PARALLELISM=(true | false)\n",
      "huggingface/tokenizers: The current process just got forked, after parallelism has already been used. Disabling parallelism to avoid deadlocks...\n",
      "To disable this warning, you can either:\n",
      "\t- Avoid using `tokenizers` before the fork if possible\n",
      "\t- Explicitly set the environment variable TOKENIZERS_PARALLELISM=(true | false)\n",
      "huggingface/tokenizers: The current process just got forked, after parallelism has already been used. Disabling parallelism to avoid deadlocks...\n",
      "To disable this warning, you can either:\n",
      "\t- Avoid using `tokenizers` before the fork if possible\n",
      "\t- Explicitly set the environment variable TOKENIZERS_PARALLELISM=(true | false)\n"
     ]
    },
    {
     "name": "stderr",
     "output_type": "stream",
     "text": [
      "You're using a DistilBertTokenizerFast tokenizer. Please note that with a fast tokenizer, using the `__call__` method is faster than using a method to encode the text followed by a call to the `pad` method to get a padded encoding.\n"
     ]
    },
    {
     "data": {
      "text/html": [
       "\n",
       "    <div>\n",
       "      \n",
       "      <progress value='2' max='25' style='width:300px; height:20px; vertical-align: middle;'></progress>\n",
       "      [ 2/25 : < :, Epoch 0.04/1]\n",
       "    </div>\n",
       "    <table border=\"1\" class=\"dataframe\">\n",
       "  <thead>\n",
       " <tr style=\"text-align: left;\">\n",
       "      <th>Step</th>\n",
       "      <th>Training Loss</th>\n",
       "    </tr>\n",
       "  </thead>\n",
       "  <tbody>\n",
       "  </tbody>\n",
       "</table><p>"
      ],
      "text/plain": [
       "<IPython.core.display.HTML object>"
      ]
     },
     "metadata": {
      "component_id": "fea0ed27-eab1-4148-b0a0-085834ff262f"
     },
     "output_type": "display_data"
    },
    {
     "data": {
      "text/plain": [
       "TrainOutput(global_step=25, training_loss=0.3085244369506836, metrics={'train_runtime': 2.6072, 'train_samples_per_second': 38.355, 'train_steps_per_second': 9.589, 'total_flos': 11448080968224.0, 'train_loss': 0.3085244369506836, 'epoch': 1.0})"
      ]
     },
     "execution_count": 0,
     "metadata": {
      "component_id": "fea0ed27-eab1-4148-b0a0-085834ff262f"
     },
     "output_type": "execute_result"
    },
    {
     "data": {},
     "execution_count": 0,
     "metadata": {
      "component_id": "fea0ed27-eab1-4148-b0a0-085834ff262f"
     },
     "output_type": "execute_result"
    }
   ],
   "source": [
    "from transformers import TrainingArguments, Trainer\n",
    "\n",
    "\n",
    "training_args = TrainingArguments(\n",
    "    output_dir=\"tmp\",\n",
    "    learning_rate=2e-5,\n",
    "    per_device_train_batch_size=4,\n",
    "    num_train_epochs=1,\n",
    "    weight_decay=0.01,\n",
    ")\n",
    "\n",
    "trainer = Trainer(\n",
    "    model=model,\n",
    "    args=training_args,\n",
    "    train_dataset=tokenized_ds,\n",
    "    tokenizer=tokenizer,\n",
    "    data_collator=data_collator,\n",
    ")\n",
    "\n",
    "trainer.train()"
   ]
  },
  {
   "cell_type": "code",
   "execution_count": null,
   "id": "b5c3efec-e847-4416-bac9-f5d93c070c53",
   "metadata": {
    "canvas": {
     "comments": [],
     "componentType": "CodeCell",
     "copiedOriginId": null,
     "diskcache": false,
     "headerColor": "transparent",
     "id": "120630da-b7eb-406e-9e55-1096d28c3e89",
     "isComponent": true,
     "name": "hugging model",
     "parents": []
    },
    "tags": []
   },
   "outputs": [],
   "source": [
    "import pandas as pd\n",
    "\n",
    "\n",
    "class HuggingModel:\n",
    "    def __init__(self, pipeline):\n",
    "        self.pipeline = pipeline\n",
    "    \n",
    "    def predict(self, X):\n",
    "        result = self.pipeline(X[\"text\"].to_list())\n",
    "        return pd.DataFrame.from_dict(result)"
   ]
  },
  {
   "cell_type": "code",
   "execution_count": null,
   "id": "8f48f144-812c-4b3a-9a73-4ab525eb347c",
   "metadata": {
    "canvas": {
     "comments": [],
     "componentType": "CodeCell",
     "copiedOriginId": null,
     "diskcache": false,
     "headerColor": "transparent",
     "id": "3e28d79b-f802-4e3d-9c2e-07eb4b20e12a",
     "isComponent": true,
     "name": "wrap model",
     "parents": [
      {
       "id": "fea0ed27-eab1-4148-b0a0-085834ff262f",
       "name": "train model"
      },
      {
       "id": "120630da-b7eb-406e-9e55-1096d28c3e89",
       "name": "hugging model"
      }
     ]
    },
    "tags": []
   },
   "outputs": [
    {
     "name": "stderr",
     "output_type": "stream",
     "text": [
      "Xformers is not installed correctly. If you want to use memory_efficient_attention to accelerate training use the following command to install Xformers\n",
      "pip install xformers.\n"
     ]
    }
   ],
   "source": [
    "from transformers import pipeline\n",
    "\n",
    "\n",
    "model = model.to(\"cpu\")\n",
    "pipe = pipeline(\"text-classification\", model=model, tokenizer=tokenizer)\n",
    "\n",
    "hug_model = HuggingModel(pipe)"
   ]
  },
  {
   "cell_type": "code",
   "execution_count": null,
   "id": "69b92d6b-6bb3-4547-9082-3fc8e2cfdc0f",
   "metadata": {
    "canvas": {
     "comments": [],
     "componentType": "CodeCell",
     "copiedOriginId": null,
     "diskcache": false,
     "headerColor": "transparent",
     "id": "d03cbb06-a490-4944-be56-a646087de6ef",
     "isComponent": true,
     "name": "input_sample",
     "parents": [
      {
       "id": "3e28d79b-f802-4e3d-9c2e-07eb4b20e12a",
       "name": "wrap model"
      }
     ]
    },
    "tags": []
   },
   "outputs": [],
   "source": [
    "input_sample = df.sample(1).drop(columns=[\"label\"])"
   ]
  },
  {
   "cell_type": "code",
   "execution_count": null,
   "id": "808a9b8c-20e2-4bc0-907f-0509fe5d91a1",
   "metadata": {
    "canvas": {
     "comments": [],
     "componentType": "CodeCell",
     "copiedOriginId": null,
     "diskcache": false,
     "headerColor": "transparent",
     "id": "e340e7e1-483f-4e7d-a09f-caedbc163485",
     "isComponent": true,
     "name": "send model to runway",
     "parents": [
      {
       "id": "d03cbb06-a490-4944-be56-a646087de6ef",
       "name": "input_sample"
      }
     ]
    },
    "tags": []
   },
   "outputs": [
    {
     "name": "stderr",
     "output_type": "stream",
     "text": [
      "/usr/local/lib/python3.9/dist-packages/runway/common/post_save_utils.py:89: UserWarning: model name is changed from my-model to my-model-f8a9fec1\n",
      "  warnings.warn(\n"
     ]
    }
   ],
   "source": [
    "import runway\n",
    "\n",
    "runway.log_model(model_name='my-model', model=hug_model, input_samples={'predict': input_sample})\n"
   ]
  }
 ],
 "metadata": {
  "canvas": {
   "colorPalette": [
    "inherit",
    "inherit",
    "inherit",
    "inherit",
    "inherit",
    "inherit",
    "inherit",
    "inherit",
    "inherit",
    "inherit"
   ],
   "parameters": [
    {
     "name": "RUNWAY_DATA_PATH",
     "type": "str",
     "value": "\"/home/jovyan/workspace/dataset/imdb-test/imdb-test.parquet\""
    },
    {
     "name": "MODEL_ARCH_NAME",
     "type": "str",
     "value": "\"distilbert-base-uncased\""
    }
   ],
   "version": "1.0"
  },
  "kernelspec": {
   "display_name": "Python 3 (ipykernel)",
   "language": "python",
   "name": "python3"
  },
  "language_info": {
   "codemirror_mode": {
    "name": "ipython",
    "version": 3
   },
   "file_extension": ".py",
   "mimetype": "text/x-python",
   "name": "python",
   "nbconvert_exporter": "python",
   "pygments_lexer": "ipython3",
   "version": "3.9.14"
  }
 },
 "nbformat": 4,
 "nbformat_minor": 5
}
