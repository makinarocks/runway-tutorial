{
 "cells": [
  {
   "cell_type": "code",
   "execution_count": null,
   "id": "7f32afa3-f0bf-409d-8181-6b16e1959834",
   "metadata": {
    "canvas": {
     "comments": [],
     "componentType": "CodeCell",
     "copiedOriginId": null,
     "diskcache": false,
     "headerColor": "transparent",
     "id": "b41e218c-c07e-4a91-b6d8-b308518ad3d1",
     "isComponent": false,
     "name": "",
     "parents": []
    },
    "tags": []
   },
   "outputs": [],
   "source": [
    "# Install package\n",
    "!pip install pandas numpy scikit-learn"
   ]
  },
  {
   "cell_type": "code",
   "execution_count": null,
   "id": "4109eb30-e731-4361-b808-aae89161ff01",
   "metadata": {
    "canvas": {
     "comments": [],
     "componentType": "CodeCell",
     "copiedOriginId": null,
     "diskcache": false,
     "headerColor": "transparent",
     "id": "55c10414-a2a4-41ae-9c7f-2d20063e9618",
     "isComponent": true,
     "name": "read data",
     "parents": []
    },
    "tags": []
   },
   "outputs": [],
   "source": [
    "# RUNWAY_DATA_PATH는 Link Pipeline Parameters로 등록 되어 있어야 합니다.\n",
    "import pandas as pd\n",
    "\n",
    "df = pd.read_csv(RUNWAY_DATA_PATH)"
   ]
  },
  {
   "cell_type": "code",
   "execution_count": null,
   "id": "54a0c858-9aac-4378-b1e4-5bd226250032",
   "metadata": {
    "canvas": {
     "comments": [],
     "componentType": "CodeCell",
     "copiedOriginId": null,
     "diskcache": false,
     "headerColor": "transparent",
     "id": "07c952b0-620d-4b2b-8007-7a1b47b4d8c1",
     "isComponent": true,
     "name": "Data preparation",
     "parents": [
      {
       "id": "55c10414-a2a4-41ae-9c7f-2d20063e9618",
       "name": "read data"
      }
     ]
    },
    "tags": []
   },
   "outputs": [],
   "source": [
    "#Drop NA data in dataset\n",
    "data_clean= df.dropna()\n",
    "\n",
    "#Select Predictor columns\n",
    "X = df[['cylinders', 'displacement', 'weight', 'acceleration', \"origin\"]]\n",
    "\n",
    "#Select target column\n",
    "y = df['mpg']"
   ]
  },
  {
   "cell_type": "code",
   "execution_count": null,
   "id": "a7666b78-9f78-4870-88f9-463c7182b855",
   "metadata": {
    "canvas": {
     "comments": [],
     "componentType": "CodeCell",
     "copiedOriginId": null,
     "diskcache": false,
     "headerColor": "transparent",
     "id": "59187ef4-72ec-4d8d-9eee-33d4f270d2d8",
     "isComponent": true,
     "name": "Split dataset",
     "parents": [
      {
       "id": "07c952b0-620d-4b2b-8007-7a1b47b4d8c1",
       "name": "Data preparation"
      }
     ]
    },
    "tags": []
   },
   "outputs": [],
   "source": [
    "from sklearn.model_selection import train_test_split\n",
    "\n",
    "#Split data into training and testing sets\n",
    "X_train, X_valid, y_train, y_valid = train_test_split(X, y, test_size=0.2)"
   ]
  },
  {
   "cell_type": "code",
   "execution_count": null,
   "id": "515d8294-3d69-4fc6-bc34-dd01302a94f2",
   "metadata": {
    "canvas": {
     "comments": [],
     "componentType": "CodeCell",
     "copiedOriginId": null,
     "diskcache": false,
     "headerColor": "transparent",
     "id": "65e6eaea-5d2f-433a-aacf-57f8dfa9338a",
     "isComponent": true,
     "name": "Declare model class",
     "parents": []
    },
    "tags": []
   },
   "outputs": [],
   "source": [
    "import pandas as pd\n",
    "from sklearn.linear_model import LinearRegression\n",
    "from sklearn.preprocessing import StandardScaler\n",
    "\n",
    "\n",
    "class RunwayRegressor:\n",
    "    def __init__(self):\n",
    "        \"\"\"Initialize.\"\"\"\n",
    "        self.preprocessing = StandardScaler()\n",
    "        self.model = LinearRegression()\n",
    "        \n",
    "    def fit(self, X, y):\n",
    "        \"\"\"fit model.\"\"\"\n",
    "        X_scaled = self.preprocessing.fit_transform(X)\n",
    "        self.model.fit(X_scaled, y)\n",
    "    \n",
    "    def predict(self, X):\n",
    "        X_scaled = self.preprocessing.transform(X)\n",
    "        pred = self.model.predict(X_scaled)\n",
    "        pred_df = pd.DataFrame({\"mpg_pred\": pred})\n",
    "        return pred_df"
   ]
  },
  {
   "cell_type": "code",
   "execution_count": null,
   "id": "02e6ef7b-c952-48ef-8e76-ae2b44117fa8",
   "metadata": {
    "canvas": {
     "comments": [],
     "componentType": "CodeCell",
     "copiedOriginId": null,
     "diskcache": false,
     "headerColor": "transparent",
     "id": "c6a1e6b6-b580-4040-9a6c-b50f2e02a140",
     "isComponent": true,
     "name": "Train model",
     "parents": [
      {
       "id": "65e6eaea-5d2f-433a-aacf-57f8dfa9338a",
       "name": "Declare model class"
      },
      {
       "id": "59187ef4-72ec-4d8d-9eee-33d4f270d2d8",
       "name": "Split dataset"
      }
     ]
    },
    "tags": []
   },
   "outputs": [],
   "source": [
    "runway_regressor = RunwayRegressor()\n",
    "runway_regressor.fit(X_train, y_train)"
   ]
  },
  {
   "cell_type": "code",
   "execution_count": null,
   "id": "8f7c95d1-6446-4ea2-a504-6acc305e07af",
   "metadata": {
    "canvas": {
     "comments": [],
     "componentType": "CodeCell",
     "copiedOriginId": null,
     "diskcache": false,
     "headerColor": "transparent",
     "id": "83ee57bf-6eaf-43d9-acc5-4663d9e5d49c",
     "isComponent": true,
     "name": "Test and evaluate model",
     "parents": [
      {
       "id": "c6a1e6b6-b580-4040-9a6c-b50f2e02a140",
       "name": "Train model"
      }
     ]
    },
    "tags": []
   },
   "outputs": [],
   "source": [
    "from sklearn.metrics import mean_squared_error\n",
    "\n",
    "#Test model on held out test set\n",
    "valid_pred = runway_regressor.predict(X_valid)\n",
    "\n",
    "#Mean Squared error on the testing set\n",
    "mse = mean_squared_error(valid_pred, y_valid)\n",
    "\n",
    "#Print evaluate model score\n",
    "print('Mean Squared Error: {}'.format(mse))"
   ]
  },
  {
   "cell_type": "code",
   "execution_count": null,
   "id": "41e08d99-efb8-48b1-a7ce-1fe2801f55c1",
   "metadata": {
    "canvas": {
     "comments": [],
     "componentType": "CodeCell",
     "copiedOriginId": null,
     "diskcache": false,
     "headerColor": "transparent",
     "id": "b63d2065-1119-4330-82a4-fda8c9ebb056",
     "isComponent": true,
     "name": "Declare input sample",
     "parents": [
      {
       "id": "83ee57bf-6eaf-43d9-acc5-4663d9e5d49c",
       "name": "Test and evaluate model"
      }
     ]
    },
    "tags": []
   },
   "outputs": [],
   "source": [
    "input_samples = X_train.sample(1)\n",
    "input_samples"
   ]
  },
  {
   "cell_type": "code",
   "execution_count": null,
   "id": "fc18d4bd-0147-4d85-8a19-565b3be06929",
   "metadata": {
    "canvas": {
     "comments": [],
     "componentType": "CodeCell",
     "copiedOriginId": null,
     "diskcache": false,
     "headerColor": "transparent",
     "id": "b87d3e79-2e76-427f-a822-b70a0ad6d239",
     "isComponent": true,
     "name": "send model to runway",
     "parents": [
      {
       "id": "b63d2065-1119-4330-82a4-fda8c9ebb056",
       "name": "Declare input sample"
      }
     ]
    },
    "tags": []
   },
   "outputs": [],
   "source": [
    "import runway\n",
    "\n",
    "runway.log_model(model_name='auto-mpg-reg-model-sklearn', model=runway_regressor, input_samples={'predict': input_samples})\n"
   ]
  }
 ],
 "metadata": {
  "canvas": {
   "colorPalette": [
    "inherit",
    "inherit",
    "inherit",
    "inherit",
    "inherit",
    "inherit",
    "inherit",
    "inherit",
    "inherit",
    "inherit"
   ],
   "parameters": [
    {
     "name": "RUNWAY_DATA_PATH",
     "type": "str",
     "value": "\"/home/jovyan/workspace/dataset/auto-mpg/auto-mpg.csv\""
    }
   ],
   "version": "1.0"
  },
  "kernelspec": {
   "display_name": "Python 3 (ipykernel)",
   "language": "python",
   "name": "python3"
  },
  "language_info": {
   "codemirror_mode": {
    "name": "ipython",
    "version": 3
   },
   "file_extension": ".py",
   "mimetype": "text/x-python",
   "name": "python",
   "nbconvert_exporter": "python",
   "pygments_lexer": "ipython3",
   "version": "3.9.14"
  }
 },
 "nbformat": 4,
 "nbformat_minor": 5
}
